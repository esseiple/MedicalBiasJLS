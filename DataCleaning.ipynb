{
 "cells": [
  {
   "cell_type": "code",
   "execution_count": 1,
   "metadata": {},
   "outputs": [],
   "source": [
    "import pandas as pd"
   ]
  },
  {
   "cell_type": "code",
   "execution_count": 2,
   "metadata": {},
   "outputs": [],
   "source": [
    "allergies = pd.read_csv('allergies.csv')\n",
    "careplans = pd.read_csv('careplans.csv')\n",
    "claims = pd.read_csv('claims.csv')\n",
    "conditions = pd.read_csv('conditions.csv')\n",
    "encounters = pd.read_csv('encounters.csv')\n",
    "immunizations = pd.read_csv('immunizations.csv')\n",
    "medications = pd.read_csv('medications.csv')\n",
    "observations = pd.read_csv('observations.csv')\n",
    "patients = pd.read_csv('patients.csv')"
   ]
  },
  {
   "cell_type": "code",
   "execution_count": 3,
   "metadata": {},
   "outputs": [],
   "source": [
    "column_names = ['START','STOP']\n",
    "allergies_clean = allergies.drop(column_names, axis=1)\n",
    "careplans_clean = careplans.drop(column_names, axis=1)\n",
    "conditions_clean = conditions.drop(column_names, axis=1)\n",
    "medications_clean = medications.drop(column_names, axis=1)\n",
    "\n",
    "column_names = ['DATE']\n",
    "observations_clean = observations.drop(column_names, axis=1)\n",
    "immunizations_clean = immunizations.drop(column_names, axis=1)\n",
    "encounters_clean = encounters.drop(column_names, axis=1)"
   ]
  },
  {
   "cell_type": "code",
   "execution_count": 4,
   "metadata": {},
   "outputs": [],
   "source": [
    "patients = patients.rename(columns={'patient': 'PATIENT'})\n",
    "\n",
    "def add_suffix(df, suffix):\n",
    "    renamed_columns = {}\n",
    "    for col_name in df.columns:\n",
    "        if col_name != 'PATIENT':\n",
    "            renamed_columns[col_name] = col_name + '_' + suffix\n",
    "        else:\n",
    "            renamed_columns[col_name] = col_name\n",
    "    return df.rename(columns=renamed_columns)\n",
    "\n",
    "\n",
    "allergies_clean = add_suffix(allergies_clean, 'ALLERGIES')\n",
    "careplans_clean = add_suffix(careplans_clean, 'CAREPLANS')\n",
    "claims_clean = add_suffix(claims, 'CLAIMS')\n",
    "conditions_clean = add_suffix(conditions_clean, 'CONDITIONS')\n",
    "encounters_clean = add_suffix(encounters_clean, 'ENCOUNTERS')\n",
    "immunizations_clean = add_suffix(immunizations_clean, 'IMMUNIZATIONS')\n",
    "medications_clean = add_suffix(medications_clean, 'MEDICATIONS')\n",
    "observations_clean = add_suffix(observations_clean, 'OBSERVATIONS')\n"
   ]
  },
  {
   "cell_type": "code",
   "execution_count": 7,
   "metadata": {},
   "outputs": [],
   "source": [
    "merged_df = pd.merge(allergies_clean, patients, on='PATIENT', how='inner')\n",
    "merged_df = pd.merge(merged_df, careplans_clean, on='PATIENT', how='inner')\n",
    "merged_df = pd.merge(merged_df, claims_clean, on='PATIENT', how='inner')\n",
    "merged_df = pd.merge(merged_df, conditions_clean, on='PATIENT', how='inner')\n",
    "merged_df = pd.merge(merged_df, encounters_clean, on='PATIENT', how='inner')\n",
    "merged_df = pd.merge(merged_df, immunizations_clean, on='PATIENT', how='inner')\n",
    "merged_df = pd.merge(merged_df, medications_clean, on='PATIENT', how='inner')\n",
    "merged_df = pd.merge(merged_df, observations_clean, on='PATIENT', how='inner')\n",
    "\n",
    "merged_df"
   ]
  }
 ],
 "metadata": {
  "kernelspec": {
   "display_name": "ml-0451",
   "language": "python",
   "name": "python3"
  },
  "language_info": {
   "codemirror_mode": {
    "name": "ipython",
    "version": 3
   },
   "file_extension": ".py",
   "mimetype": "text/x-python",
   "name": "python",
   "nbconvert_exporter": "python",
   "pygments_lexer": "ipython3",
   "version": "3.9.18"
  }
 },
 "nbformat": 4,
 "nbformat_minor": 2
}
