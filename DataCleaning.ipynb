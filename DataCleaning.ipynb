{
 "cells": [
  {
   "cell_type": "code",
   "execution_count": 51,
   "metadata": {},
   "outputs": [],
   "source": [
    "import pandas as pd"
   ]
  },
  {
   "cell_type": "markdown",
   "metadata": {},
   "source": [
    "## Read in data"
   ]
  },
  {
   "cell_type": "code",
   "execution_count": 52,
   "metadata": {},
   "outputs": [],
   "source": [
    "allergies = pd.read_csv('allergies.csv')\n",
    "careplans = pd.read_csv('careplans.csv')\n",
    "conditions = pd.read_csv('conditions.csv')\n",
    "encounters = pd.read_csv('encounters.csv') ##NOT USING RN, DO WE NEED?\n",
    "immunizations = pd.read_csv('immunizations.csv')\n",
    "medications = pd.read_csv('medications.csv')\n",
    "observations = pd.read_csv('observations.csv')\n",
    "patients = pd.read_csv('patients.csv')\n",
    "procedures = pd.read_csv('procedures.csv')"
   ]
  },
  {
   "cell_type": "markdown",
   "metadata": {},
   "source": [
    "## Clean up dataframes: have one row per patient"
   ]
  },
  {
   "cell_type": "code",
   "execution_count": 53,
   "metadata": {},
   "outputs": [],
   "source": [
    "## ALLERGIES\n",
    "allergies_pivot = pd.get_dummies(allergies['DESCRIPTION'])\n",
    "allergies_pivot['PATIENT'] = allergies['PATIENT']\n",
    "allergies_pivot = allergies_pivot.groupby('PATIENT').sum().reset_index()"
   ]
  },
  {
   "cell_type": "code",
   "execution_count": 54,
   "metadata": {},
   "outputs": [],
   "source": [
    "## CAREPLANS\n",
    "careplans_pivot = pd.get_dummies(careplans['DESCRIPTION'])\n",
    "careplans_pivot['PATIENT'] = careplans['PATIENT']\n",
    "careplans_pivot = careplans_pivot.groupby('PATIENT').sum().reset_index()"
   ]
  },
  {
   "cell_type": "code",
   "execution_count": 55,
   "metadata": {},
   "outputs": [],
   "source": [
    "## CONDITIONS\n",
    "conditions_pivot = pd.get_dummies(conditions['DESCRIPTION'])\n",
    "conditions_pivot['PATIENT'] = conditions['PATIENT']\n",
    "conditions_pivot = conditions_pivot.groupby('PATIENT').sum().reset_index()"
   ]
  },
  {
   "cell_type": "code",
   "execution_count": 56,
   "metadata": {},
   "outputs": [],
   "source": [
    "## IMMUNIZATIONS\n",
    "immunizations_pivot = pd.get_dummies(immunizations['DESCRIPTION'])\n",
    "immunizations_pivot['PATIENT'] = immunizations['PATIENT']\n",
    "immunizations_pivot = immunizations_pivot.groupby('PATIENT').sum().reset_index()"
   ]
  },
  {
   "cell_type": "code",
   "execution_count": 57,
   "metadata": {},
   "outputs": [],
   "source": [
    "## MEDICATIONS\n",
    "medications_pivot = pd.get_dummies(medications['DESCRIPTION'])\n",
    "medications_pivot['PATIENT'] = medications['PATIENT']\n",
    "medications_pivot = medications_pivot.groupby('PATIENT').sum().reset_index()"
   ]
  },
  {
   "cell_type": "code",
   "execution_count": 58,
   "metadata": {},
   "outputs": [],
   "source": [
    "## OBSERVATIONS\n",
    "observations['VALUE'] = pd.to_numeric(observations['VALUE'], errors='coerce')\n",
    "\n",
    "# Pivot table with mean aggregation\n",
    "observations_pivot= observations.pivot_table(index=observations.index, columns='DESCRIPTION', values='VALUE', fill_value=0, aggfunc='mean')\n",
    "observations_pivot['PATIENT'] = observations['PATIENT']\n",
    "observations_pivot = observations_pivot.groupby('PATIENT').sum().reset_index()\n",
    "\n",
    "observations_pivot.to_csv('observations_pivot.csv', index=False)"
   ]
  },
  {
   "cell_type": "code",
   "execution_count": 59,
   "metadata": {},
   "outputs": [],
   "source": [
    "## PROCEDURES\n",
    "procedures_pivot = pd.get_dummies(procedures['DESCRIPTION'])\n",
    "procedures_pivot['PATIENT'] = procedures['PATIENT']\n",
    "procedures_pivot = procedures_pivot.groupby('PATIENT').sum().reset_index()"
   ]
  },
  {
   "cell_type": "markdown",
   "metadata": {},
   "source": [
    "### REMOVE MA US from Patient info (they are all from mass)"
   ]
  },
  {
   "cell_type": "code",
   "execution_count": 60,
   "metadata": {},
   "outputs": [],
   "source": [
    "places = patients['birthplace']\n",
    "cleaned_places = [place.rsplit(' ', 2)[0] for place in places]\n",
    "\n",
    "patients['birthplace'] = cleaned_places\n",
    "\n"
   ]
  },
  {
   "cell_type": "code",
   "execution_count": 61,
   "metadata": {},
   "outputs": [],
   "source": [
    "town_list = patients['birthplace'].unique()"
   ]
  },
  {
   "cell_type": "code",
   "execution_count": 62,
   "metadata": {},
   "outputs": [],
   "source": [
    "patients.to_csv('patient_clean.csv', index=False)"
   ]
  },
  {
   "cell_type": "code",
   "execution_count": 63,
   "metadata": {},
   "outputs": [],
   "source": [
    "def extract_town_name(address, town_list):\n",
    "    # Check if any part of the address matches any town name in the list\n",
    "    for town in town_list:\n",
    "        if town in address:\n",
    "            return town\n",
    "    return None\n",
    "\n",
    "patients['curr_town'] = \"\"\n",
    "\n",
    "for index, address in enumerate(patients['address']):\n",
    "    # Extract the town name\n",
    "    town_name = extract_town_name(address, town_list)\n",
    "    \n",
    "    # Assign the extracted town name to the corresponding entry in the 'curr_town' column\n",
    "    patients.at[index, 'curr_town'] = town_name"
   ]
  },
  {
   "cell_type": "markdown",
   "metadata": {},
   "source": [
    "## Add suffixes to columns"
   ]
  },
  {
   "cell_type": "code",
   "execution_count": 64,
   "metadata": {},
   "outputs": [],
   "source": [
    "patients = patients.rename(columns={'patient': 'PATIENT'})\n",
    "\n",
    "def add_suffix(df, suffix):\n",
    "    renamed_columns = {}\n",
    "    for col_name in df.columns:\n",
    "        if col_name != 'PATIENT':\n",
    "            renamed_columns[col_name] = col_name + '_' + suffix\n",
    "        else:\n",
    "            renamed_columns[col_name] = col_name\n",
    "    return df.rename(columns=renamed_columns)\n",
    "\n",
    "\n",
    "allergies_clean = add_suffix(allergies_pivot, 'ALLERGIES')\n",
    "careplans_clean = add_suffix(careplans_pivot, 'CAREPLANS')\n",
    "conditions_clean = add_suffix(conditions_pivot, 'CONDITIONS')\n",
    "immunizations_clean = add_suffix(immunizations_pivot, 'IMMUNIZATIONS')\n",
    "medications_clean = add_suffix(medications_pivot, 'MEDICATIONS')\n",
    "observations_pivot = add_suffix(observations_pivot, 'OBSERVATIONS')\n",
    "procedures_clean = add_suffix(procedures_pivot, 'PROCEDURES')\n"
   ]
  },
  {
   "cell_type": "markdown",
   "metadata": {},
   "source": [
    "## Merge datasets"
   ]
  },
  {
   "cell_type": "code",
   "execution_count": 65,
   "metadata": {},
   "outputs": [],
   "source": [
    "def merge_datasets(conditions_spec):\n",
    "    \n",
    "    merged_df = pd.merge(conditions_spec, patients, on='PATIENT', how='left')\n",
    "    \n",
    "    # # Check if there are any matched patient IDs\n",
    "    # if not merged_df.empty:\n",
    "    #     print(\"Matched patient IDs found.\")\n",
    "    #     # Optionally, print or inspect the matched patient IDs\n",
    "    #     print(\"Matched patient IDs:\", merged_df['PATIENT'].unique())\n",
    "    # else:\n",
    "    #     print(\"No matched patient IDs found.\")\n",
    "    \n",
    "    merged_df = pd.merge(merged_df, allergies_clean, on='PATIENT', how='left')\n",
    "    merged_df = pd.merge(merged_df, careplans_clean, on='PATIENT', how='left')\n",
    "    merged_df = pd.merge(merged_df, procedures_clean, on='PATIENT', how='left')\n",
    "    \n",
    "    # # Check if there are any matched patient IDs\n",
    "    # if not merged_df.empty:\n",
    "    #     print(\"2 Matched patient IDs found.\")\n",
    "    #     # Optionally, print or inspect the matched patient IDs\n",
    "    #     print(\"2 Matched patient IDs:\", merged_df['PATIENT'].unique())\n",
    "    # else:\n",
    "    #     print(\"2 No matched patient IDs found.\")\n",
    "    \n",
    "    # print(\"onto encounter merges\")\n",
    "    \n",
    "    # merged_df = pd.merge(merged_df, section1, on='PATIENT', how='left')\n",
    "    # merged_df = pd.merge(merged_df, section2, on='PATIENT', how='left')\n",
    "    # merged_df = pd.merge(merged_df, section3, on='PATIENT', how='left')\n",
    "    # merged_df = pd.merge(merged_df, section4, on='PATIENT', how='left')\n",
    "    # merged_df = pd.merge(merged_df, section5, on='PATIENT', how='left')\n",
    "    # merged_df = pd.merge(merged_df, section6, on='PATIENT', how='left')\n",
    "    # merged_df = pd.merge(merged_df, section7, on='PATIENT', how='left')\n",
    "    \n",
    "    print(\"3 merges left to go\")\n",
    "    \n",
    "    merged_df = pd.merge(merged_df, immunizations_clean, on='PATIENT', how='left')\n",
    "    \n",
    "    print(\"1\")\n",
    "    \n",
    "    merged_df = pd.merge(merged_df, medications_clean, on='PATIENT', how='left')\n",
    "    print(\"2\")\n",
    "\n",
    "    merged_df = pd.merge(merged_df, observations_pivot, on='PATIENT', how='left')\n",
    "    print(\"3\")\n",
    "    \n",
    "    return merged_df"
   ]
  },
  {
   "cell_type": "code",
   "execution_count": 66,
   "metadata": {},
   "outputs": [
    {
     "data": {
      "text/html": [
       "<div>\n",
       "<style scoped>\n",
       "    .dataframe tbody tr th:only-of-type {\n",
       "        vertical-align: middle;\n",
       "    }\n",
       "\n",
       "    .dataframe tbody tr th {\n",
       "        vertical-align: top;\n",
       "    }\n",
       "\n",
       "    .dataframe thead th {\n",
       "        text-align: right;\n",
       "    }\n",
       "</style>\n",
       "<table border=\"1\" class=\"dataframe\">\n",
       "  <thead>\n",
       "    <tr style=\"text-align: right;\">\n",
       "      <th></th>\n",
       "      <th>PATIENT</th>\n",
       "      <th>Acute allergic reaction_CONDITIONS</th>\n",
       "      <th>Acute bacterial sinusitis (disorder)_CONDITIONS</th>\n",
       "      <th>Acute bronchitis (disorder)_CONDITIONS</th>\n",
       "      <th>Acute viral pharyngitis (disorder)_CONDITIONS</th>\n",
       "      <th>Alzheimer's disease (disorder)_CONDITIONS</th>\n",
       "      <th>Antepartum eclampsia_CONDITIONS</th>\n",
       "      <th>Appendicitis_CONDITIONS</th>\n",
       "      <th>Asthma_CONDITIONS</th>\n",
       "      <th>Atopic dermatitis_CONDITIONS</th>\n",
       "      <th>...</th>\n",
       "      <th>Sprain of ankle_CONDITIONS</th>\n",
       "      <th>Sprain of wrist_CONDITIONS</th>\n",
       "      <th>Streptococcal sore throat (disorder)_CONDITIONS</th>\n",
       "      <th>Stroke_CONDITIONS</th>\n",
       "      <th>Suspected lung cancer (situation)_CONDITIONS</th>\n",
       "      <th>Tear of meniscus of knee_CONDITIONS</th>\n",
       "      <th>Third degree burn_CONDITIONS</th>\n",
       "      <th>Tubal pregnancy_CONDITIONS</th>\n",
       "      <th>Viral sinusitis (disorder)_CONDITIONS</th>\n",
       "      <th>Whiplash injury to neck_CONDITIONS</th>\n",
       "    </tr>\n",
       "  </thead>\n",
       "  <tbody>\n",
       "    <tr>\n",
       "      <th>0</th>\n",
       "      <td>00269bb7-e3ab-43a9-9cdf-cdf9b6e3b2b3</td>\n",
       "      <td>0</td>\n",
       "      <td>0</td>\n",
       "      <td>0</td>\n",
       "      <td>0</td>\n",
       "      <td>0</td>\n",
       "      <td>0</td>\n",
       "      <td>0</td>\n",
       "      <td>0</td>\n",
       "      <td>0</td>\n",
       "      <td>...</td>\n",
       "      <td>0</td>\n",
       "      <td>0</td>\n",
       "      <td>0</td>\n",
       "      <td>0</td>\n",
       "      <td>0</td>\n",
       "      <td>0</td>\n",
       "      <td>0</td>\n",
       "      <td>0</td>\n",
       "      <td>0</td>\n",
       "      <td>0</td>\n",
       "    </tr>\n",
       "    <tr>\n",
       "      <th>1</th>\n",
       "      <td>00341a88-1cc1-4b39-b0f9-05b0531991a0</td>\n",
       "      <td>0</td>\n",
       "      <td>1</td>\n",
       "      <td>0</td>\n",
       "      <td>0</td>\n",
       "      <td>0</td>\n",
       "      <td>0</td>\n",
       "      <td>0</td>\n",
       "      <td>1</td>\n",
       "      <td>1</td>\n",
       "      <td>...</td>\n",
       "      <td>1</td>\n",
       "      <td>0</td>\n",
       "      <td>1</td>\n",
       "      <td>0</td>\n",
       "      <td>0</td>\n",
       "      <td>0</td>\n",
       "      <td>0</td>\n",
       "      <td>0</td>\n",
       "      <td>1</td>\n",
       "      <td>0</td>\n",
       "    </tr>\n",
       "    <tr>\n",
       "      <th>2</th>\n",
       "      <td>004a5922-7c4d-40cc-a0f8-68f607044c99</td>\n",
       "      <td>0</td>\n",
       "      <td>0</td>\n",
       "      <td>0</td>\n",
       "      <td>0</td>\n",
       "      <td>0</td>\n",
       "      <td>0</td>\n",
       "      <td>0</td>\n",
       "      <td>0</td>\n",
       "      <td>0</td>\n",
       "      <td>...</td>\n",
       "      <td>0</td>\n",
       "      <td>0</td>\n",
       "      <td>0</td>\n",
       "      <td>0</td>\n",
       "      <td>0</td>\n",
       "      <td>0</td>\n",
       "      <td>0</td>\n",
       "      <td>0</td>\n",
       "      <td>1</td>\n",
       "      <td>0</td>\n",
       "    </tr>\n",
       "    <tr>\n",
       "      <th>3</th>\n",
       "      <td>00630ce3-e8eb-4ed4-889b-2c0ac257cbf4</td>\n",
       "      <td>0</td>\n",
       "      <td>0</td>\n",
       "      <td>0</td>\n",
       "      <td>0</td>\n",
       "      <td>0</td>\n",
       "      <td>0</td>\n",
       "      <td>0</td>\n",
       "      <td>0</td>\n",
       "      <td>0</td>\n",
       "      <td>...</td>\n",
       "      <td>0</td>\n",
       "      <td>1</td>\n",
       "      <td>0</td>\n",
       "      <td>0</td>\n",
       "      <td>0</td>\n",
       "      <td>0</td>\n",
       "      <td>0</td>\n",
       "      <td>0</td>\n",
       "      <td>1</td>\n",
       "      <td>0</td>\n",
       "    </tr>\n",
       "    <tr>\n",
       "      <th>4</th>\n",
       "      <td>007cbcc1-7333-4c79-b5e9-ffa93822fa11</td>\n",
       "      <td>0</td>\n",
       "      <td>0</td>\n",
       "      <td>0</td>\n",
       "      <td>2</td>\n",
       "      <td>0</td>\n",
       "      <td>1</td>\n",
       "      <td>0</td>\n",
       "      <td>0</td>\n",
       "      <td>0</td>\n",
       "      <td>...</td>\n",
       "      <td>0</td>\n",
       "      <td>0</td>\n",
       "      <td>0</td>\n",
       "      <td>0</td>\n",
       "      <td>0</td>\n",
       "      <td>0</td>\n",
       "      <td>0</td>\n",
       "      <td>0</td>\n",
       "      <td>1</td>\n",
       "      <td>0</td>\n",
       "    </tr>\n",
       "  </tbody>\n",
       "</table>\n",
       "<p>5 rows × 119 columns</p>\n",
       "</div>"
      ],
      "text/plain": [
       "                                PATIENT  Acute allergic reaction_CONDITIONS  \\\n",
       "0  00269bb7-e3ab-43a9-9cdf-cdf9b6e3b2b3                                   0   \n",
       "1  00341a88-1cc1-4b39-b0f9-05b0531991a0                                   0   \n",
       "2  004a5922-7c4d-40cc-a0f8-68f607044c99                                   0   \n",
       "3  00630ce3-e8eb-4ed4-889b-2c0ac257cbf4                                   0   \n",
       "4  007cbcc1-7333-4c79-b5e9-ffa93822fa11                                   0   \n",
       "\n",
       "   Acute bacterial sinusitis (disorder)_CONDITIONS  \\\n",
       "0                                                0   \n",
       "1                                                1   \n",
       "2                                                0   \n",
       "3                                                0   \n",
       "4                                                0   \n",
       "\n",
       "   Acute bronchitis (disorder)_CONDITIONS  \\\n",
       "0                                       0   \n",
       "1                                       0   \n",
       "2                                       0   \n",
       "3                                       0   \n",
       "4                                       0   \n",
       "\n",
       "   Acute viral pharyngitis (disorder)_CONDITIONS  \\\n",
       "0                                              0   \n",
       "1                                              0   \n",
       "2                                              0   \n",
       "3                                              0   \n",
       "4                                              2   \n",
       "\n",
       "   Alzheimer's disease (disorder)_CONDITIONS  Antepartum eclampsia_CONDITIONS  \\\n",
       "0                                          0                                0   \n",
       "1                                          0                                0   \n",
       "2                                          0                                0   \n",
       "3                                          0                                0   \n",
       "4                                          0                                1   \n",
       "\n",
       "   Appendicitis_CONDITIONS  Asthma_CONDITIONS  Atopic dermatitis_CONDITIONS  \\\n",
       "0                        0                  0                             0   \n",
       "1                        0                  1                             1   \n",
       "2                        0                  0                             0   \n",
       "3                        0                  0                             0   \n",
       "4                        0                  0                             0   \n",
       "\n",
       "   ...  Sprain of ankle_CONDITIONS  Sprain of wrist_CONDITIONS  \\\n",
       "0  ...                           0                           0   \n",
       "1  ...                           1                           0   \n",
       "2  ...                           0                           0   \n",
       "3  ...                           0                           1   \n",
       "4  ...                           0                           0   \n",
       "\n",
       "   Streptococcal sore throat (disorder)_CONDITIONS  Stroke_CONDITIONS  \\\n",
       "0                                                0                  0   \n",
       "1                                                1                  0   \n",
       "2                                                0                  0   \n",
       "3                                                0                  0   \n",
       "4                                                0                  0   \n",
       "\n",
       "   Suspected lung cancer (situation)_CONDITIONS  \\\n",
       "0                                             0   \n",
       "1                                             0   \n",
       "2                                             0   \n",
       "3                                             0   \n",
       "4                                             0   \n",
       "\n",
       "   Tear of meniscus of knee_CONDITIONS  Third degree burn_CONDITIONS  \\\n",
       "0                                    0                             0   \n",
       "1                                    0                             0   \n",
       "2                                    0                             0   \n",
       "3                                    0                             0   \n",
       "4                                    0                             0   \n",
       "\n",
       "   Tubal pregnancy_CONDITIONS  Viral sinusitis (disorder)_CONDITIONS  \\\n",
       "0                           0                                      0   \n",
       "1                           0                                      1   \n",
       "2                           0                                      1   \n",
       "3                           0                                      1   \n",
       "4                           0                                      1   \n",
       "\n",
       "   Whiplash injury to neck_CONDITIONS  \n",
       "0                                   0  \n",
       "1                                   0  \n",
       "2                                   0  \n",
       "3                                   0  \n",
       "4                                   0  \n",
       "\n",
       "[5 rows x 119 columns]"
      ]
     },
     "execution_count": 66,
     "metadata": {},
     "output_type": "execute_result"
    }
   ],
   "source": [
    "conditions_clean.head()"
   ]
  },
  {
   "cell_type": "markdown",
   "metadata": {},
   "source": [
    "Separate conditions dataframe based on disease (now just with diabetes but ultimately need to do with each disease)"
   ]
  },
  {
   "cell_type": "code",
   "execution_count": 67,
   "metadata": {},
   "outputs": [
    {
     "name": "stdout",
     "output_type": "stream",
     "text": [
      "3 merges left to go\n",
      "1\n",
      "2\n",
      "3\n"
     ]
    }
   ],
   "source": [
    "## DIABETES\n",
    "illness_descriptions = ['PATIENT','Diabetes_CONDITIONS','Prediabetes_CONDITIONS','Diabetic retinopathy associated with type II diabetes mellitus (disorder)_CONDITIONS', \n",
    "                        'Nonproliferative diabetic retinopathy due to type 2 diabetes mellitus (disorder)_CONDITIONS', 'Macular edema and retinopathy due to type 2 diabetes mellitus (disorder)_CONDITIONS', \n",
    "                        'Microalbuminuria due to type 2 diabetes mellitus (disorder)_CONDITIONS', 'Diabetic renal disease (disorder)_CONDITIONS', 'Neuropathy due to type 2 diabetes mellitus (disorder)_CONDITIONS']\n",
    "\n",
    "\n",
    "subset_conditions = conditions_clean.loc[:, illness_descriptions]\n",
    "\n",
    "subset_conditions.to_csv('conditions_diabetes.csv', index=False)\n",
    "\n",
    "diabetes_df = merge_datasets(subset_conditions)\n",
    "diabetes_df.to_csv('diabetes.csv', index=False)"
   ]
  },
  {
   "cell_type": "code",
   "execution_count": 68,
   "metadata": {},
   "outputs": [
    {
     "name": "stdout",
     "output_type": "stream",
     "text": [
      "3 merges left to go\n",
      "1\n",
      "2\n",
      "3\n"
     ]
    }
   ],
   "source": [
    "## PREGNANCY\n",
    "illness_descriptions = ['PATIENT','Miscarriage in first trimester_CONDITIONS','Miscarriage in second trimester_CONDITIONS',\n",
    "                        'Complication occuring during pregnancy_CONDITIONS','Preeclampsia_CONDITIONS', 'Antepartum eclampsia_CONDITIONS',\n",
    "                        'Tubal pregnancy_CONDITIONS', 'Congenital uterine anomaly_CONDITIONS', 'Blighted ovum_CONDITIONS']\n",
    "\n",
    "subset_conditions = conditions_clean.loc[:, illness_descriptions]\n",
    "pregnancy_df = merge_datasets(subset_conditions)\n",
    "pregnancy_df.to_csv('pregnancy.csv', index=False)"
   ]
  },
  {
   "cell_type": "code",
   "execution_count": 69,
   "metadata": {},
   "outputs": [
    {
     "name": "stdout",
     "output_type": "stream",
     "text": [
      "3 merges left to go\n",
      "1\n",
      "2\n",
      "3\n"
     ]
    }
   ],
   "source": [
    "## CANCER\n",
    "illness_descriptions = ['PATIENT','Non-small cell lung cancer (disorder)_CONDITIONS', 'Non-small cell carcinoma of lung  TNM stage 4 (disorder)_CONDITIONS',\n",
    "                        'Primary small cell malignant neoplasm of lung  TNM stage 4 (disorder)_CONDITIONS','Non-small cell carcinoma of lung  TNM stage 2 (disorder)_CONDITIONS',\n",
    "                        'Non-small cell lung cancer (disorder)_CONDITIONS', 'Suspected lung cancer (situation)_CONDITIONS', 'Malignant tumor of colon_CONDITIONS',\n",
    "                        'Overlapping malignant neoplasm of colon_CONDITIONS']\n",
    "\n",
    "subset_conditions = conditions_clean.loc[:, illness_descriptions]\n",
    "\n",
    "subset_conditions.to_csv('conditions_cancer.csv', index=False)\n",
    "\n",
    "\n",
    "cancer_df = merge_datasets(subset_conditions)\n",
    "cancer_df.to_csv('cancer.csv', index=False)"
   ]
  },
  {
   "cell_type": "code",
   "execution_count": 70,
   "metadata": {},
   "outputs": [
    {
     "name": "stdout",
     "output_type": "stream",
     "text": [
      "3 merges left to go\n",
      "1\n",
      "2\n",
      "3\n"
     ]
    }
   ],
   "source": [
    "## HEART\n",
    "illness_descriptions = ['PATIENT','Coronary Heart Disease_CONDITIONS', 'History of cardiac arrest (situation)_CONDITIONS', 'Cardiac Arrest_CONDITIONS',\n",
    "                        'History of myocardial infarction (situation)_CONDITIONS', 'Myocardial Infarction_CONDITIONS']\n",
    "\n",
    "subset_conditions = conditions_clean.loc[:, illness_descriptions]\n",
    "heart_df = merge_datasets(subset_conditions)\n",
    "heart_df.to_csv('heart.csv', index=False)"
   ]
  },
  {
   "cell_type": "markdown",
   "metadata": {},
   "source": [
    "Should we separate these in ETC to unique dataframes?"
   ]
  },
  {
   "cell_type": "code",
   "execution_count": 71,
   "metadata": {},
   "outputs": [
    {
     "name": "stdout",
     "output_type": "stream",
     "text": [
      "3 merges left to go\n",
      "1\n",
      "2\n",
      "3\n"
     ]
    }
   ],
   "source": [
    "## ETC\n",
    "illness_descriptions = ['PATIENT','Hypertension_CONDITIONS', 'Stroke_CONDITIONS', 'Child attention deficit disorder_CONDITIONS', 'Drug overdose_CONDITIONS']\n",
    "\n",
    "subset_conditions = conditions_clean.loc[:, illness_descriptions]\n",
    "etc_df = merge_datasets(subset_conditions)\n",
    "etc_df.to_csv('etc.csv', index=False)"
   ]
  },
  {
   "cell_type": "code",
   "execution_count": 72,
   "metadata": {},
   "outputs": [
    {
     "name": "stdout",
     "output_type": "stream",
     "text": [
      "3 merges left to go\n",
      "1\n",
      "2\n",
      "3\n"
     ]
    }
   ],
   "source": [
    "## LUNGS\n",
    "illness_descriptions = ['PATIENT','Asthma_CONDITIONS', 'Pulmonary emphysema (disorder)_CONDITIONS', 'Seasonal allergic rhinitis_CONDITIONS', \n",
    "                        'Acute bronchitis (disorder)_CONDITIONS', 'Chronic obstructive bronchitis (disorder)_CONDITIONS',\n",
    "                        'Childhood asthma_CONDITIONS', 'Perennial allergic rhinitis with seasonal variation_CONDITIONS',\n",
    "                        'Perennial allergic rhinitis_CONDITIONS', 'Acute bacterial sinusitis (disorder)_CONDITIONS', 'Chronic sinusitis (disorder)_CONDITIONS',\n",
    "                        'Sinusitis (disorder)_CONDITIONS']\n",
    "\n",
    "subset_conditions = conditions_clean.loc[:, illness_descriptions]\n",
    "lungs_df = merge_datasets(subset_conditions)\n",
    "lungs_df.to_csv('lungs.csv', index=False)"
   ]
  },
  {
   "cell_type": "markdown",
   "metadata": {},
   "source": [
    "## Unnecessary notes at bottom"
   ]
  },
  {
   "cell_type": "markdown",
   "metadata": {},
   "source": [
    "Calculate data usage"
   ]
  },
  {
   "cell_type": "code",
   "execution_count": 73,
   "metadata": {},
   "outputs": [],
   "source": [
    "# # Get memory usage of each column\n",
    "# memory_usage_per_column = merged_df.memory_usage(deep=True)\n",
    "\n",
    "# # Sum up memory usage of all columns\n",
    "# total_memory_usage = memory_usage_per_column.sum()\n",
    "\n",
    "# print(\"Total memory usage of DataFrame: {} bytes\".format(total_memory_usage))"
   ]
  },
  {
   "cell_type": "markdown",
   "metadata": {},
   "source": [
    "NOTES FROM PHIL TO STOP KERNEL DEATH\n",
    "Size of indiv. dataframes\n",
    "- delete columns that we are not going to use before we merge\n",
    "\n",
    "- read in datasets a chunk at a time\n",
    "    - operate on sequential parts of the data\n",
    "\n",
    "- if its still an issue, could get set up on cluster to compute there as well"
   ]
  }
 ],
 "metadata": {
  "kernelspec": {
   "display_name": "ml-0451",
   "language": "python",
   "name": "python3"
  },
  "language_info": {
   "codemirror_mode": {
    "name": "ipython",
    "version": 3
   },
   "file_extension": ".py",
   "mimetype": "text/x-python",
   "name": "python",
   "nbconvert_exporter": "python",
   "pygments_lexer": "ipython3",
   "version": "3.9.18"
  }
 },
 "nbformat": 4,
 "nbformat_minor": 2
}
