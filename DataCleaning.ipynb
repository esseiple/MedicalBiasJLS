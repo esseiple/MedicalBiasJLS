{
 "cells": [
  {
   "cell_type": "code",
   "execution_count": 1,
   "metadata": {},
   "outputs": [],
   "source": [
    "import pandas as pd"
   ]
  },
  {
   "cell_type": "markdown",
   "metadata": {},
   "source": [
    "## Read in data"
   ]
  },
  {
   "cell_type": "code",
   "execution_count": 2,
   "metadata": {},
   "outputs": [],
   "source": [
    "allergies = pd.read_csv('allergies.csv')\n",
    "careplans = pd.read_csv('careplans.csv')\n",
    "conditions = pd.read_csv('conditions.csv')\n",
    "encounters = pd.read_csv('encounters.csv') ##NOT USING RN, DO WE NEED?\n",
    "immunizations = pd.read_csv('immunizations.csv')\n",
    "medications = pd.read_csv('medications.csv')\n",
    "observations = pd.read_csv('observations.csv')\n",
    "patients = pd.read_csv('patients.csv')\n",
    "procedures = pd.read_csv('procedures.csv')"
   ]
  },
  {
   "cell_type": "markdown",
   "metadata": {},
   "source": [
    "## Clean up dataframes: have one row per patient"
   ]
  },
  {
   "cell_type": "code",
   "execution_count": 3,
   "metadata": {},
   "outputs": [],
   "source": [
    "## ALLERGIES\n",
    "allergies_pivot = pd.get_dummies(allergies['DESCRIPTION'])\n",
    "allergies_pivot['PATIENT'] = allergies['PATIENT']\n",
    "allergies_pivot = allergies_pivot.groupby('PATIENT').sum().reset_index()"
   ]
  },
  {
   "cell_type": "code",
   "execution_count": 4,
   "metadata": {},
   "outputs": [],
   "source": [
    "## CAREPLANS\n",
    "careplans_pivot = pd.get_dummies(careplans['DESCRIPTION'])\n",
    "careplans_pivot['PATIENT'] = careplans['PATIENT']\n",
    "careplans_pivot = careplans_pivot.groupby('PATIENT').sum().reset_index()"
   ]
  },
  {
   "cell_type": "code",
   "execution_count": 5,
   "metadata": {},
   "outputs": [],
   "source": [
    "## CONDITIONS\n",
    "conditions_pivot = pd.get_dummies(conditions['DESCRIPTION'])\n",
    "conditions_pivot['PATIENT'] = conditions['PATIENT']\n",
    "conditions_pivot = conditions_pivot.groupby('PATIENT').sum().reset_index()"
   ]
  },
  {
   "cell_type": "code",
   "execution_count": 6,
   "metadata": {},
   "outputs": [],
   "source": [
    "## IMMUNIZATIONS\n",
    "immunizations_pivot = pd.get_dummies(immunizations['DESCRIPTION'])\n",
    "immunizations_pivot['PATIENT'] = immunizations['PATIENT']\n",
    "immunizations_pivot = immunizations_pivot.groupby('PATIENT').sum().reset_index()"
   ]
  },
  {
   "cell_type": "code",
   "execution_count": 7,
   "metadata": {},
   "outputs": [],
   "source": [
    "## MEDICATIONS\n",
    "medications_pivot = pd.get_dummies(medications['DESCRIPTION'])\n",
    "medications_pivot['PATIENT'] = medications['PATIENT']\n",
    "medications_pivot = medications_pivot.groupby('PATIENT').sum().reset_index()"
   ]
  },
  {
   "cell_type": "code",
   "execution_count": 8,
   "metadata": {},
   "outputs": [],
   "source": [
    "## OBSERVATIONS\n",
    "observations['VALUE'] = pd.to_numeric(observations['VALUE'], errors='coerce')\n",
    "\n",
    "# Pivot table with mean aggregation\n",
    "observations_pivot= observations.pivot_table(index=observations.index, columns='DESCRIPTION', values='VALUE', fill_value=0, aggfunc='mean')\n",
    "observations_pivot['PATIENT'] = observations['PATIENT']\n",
    "observations_pivot = observations_pivot.groupby('PATIENT').sum().reset_index()\n",
    "\n",
    "observations_pivot.to_csv('observations_pivot.csv', index=False)"
   ]
  },
  {
   "cell_type": "code",
   "execution_count": 9,
   "metadata": {},
   "outputs": [],
   "source": [
    "## PROCEDURES\n",
    "procedures_pivot = pd.get_dummies(procedures['DESCRIPTION'])\n",
    "procedures_pivot['PATIENT'] = procedures['PATIENT']\n",
    "procedures_pivot = procedures_pivot.groupby('PATIENT').sum().reset_index()"
   ]
  },
  {
   "cell_type": "markdown",
   "metadata": {},
   "source": [
    "### REMOVE MA US from Patient info (they are all from mass)"
   ]
  },
  {
   "cell_type": "code",
   "execution_count": 10,
   "metadata": {},
   "outputs": [],
   "source": [
    "#import re\n",
    "places = patients['birthplace']\n",
    "cleaned_places = [place.replace(\" MA US\", \"\") if \" MA US\" in place else place for place in places]\n",
    "\n",
    "\n",
    "patients['birthplace'] = cleaned_places"
   ]
  },
  {
   "cell_type": "code",
   "execution_count": 11,
   "metadata": {},
   "outputs": [],
   "source": [
    "town_names = patients['birthplace'].unique().tolist()\n",
    "#some towns do not appear in birthplace but appear in current addresses, I modified the function below to print these towns and create this list, then\n",
    "# reverted to the function so it wouldn't have a long output\n",
    "towns_not_in_bp = ['Sandwich', 'Uxbridge', 'Holland', 'Monson', 'Wendell', 'Wayland', 'Rochester', 'Belchertown', 'Lanesborough', 'Hatfield',\n",
    "                  'Georgetown', 'Lakeville', 'Princeton', 'Blackstone', 'Hinsdale', 'Harvard', 'Chesterfield', 'Wellfleet', 'Northfield', 'Hubbardston',\n",
    "                  'Windsor', 'Wales', 'Sandisfield', 'Bolton', 'Truro', 'Southwick', 'Sheffield', 'Scituate', 'Halifax', 'Nahant', 'Stockbridge', 'Berlin']\n",
    "                \n",
    "for town in towns_not_in_bp:\n",
    "    town_names.append(town)"
   ]
  },
  {
   "cell_type": "code",
   "execution_count": 12,
   "metadata": {},
   "outputs": [],
   "source": [
    "def extract_town_name(address, town_list):\n",
    "    # Check if any part of the address matches any town name in the list\n",
    "    for town in town_list:\n",
    "        if town in address:\n",
    "            return town\n",
    "    print(address)\n",
    "    return None\n",
    "\n",
    "patients['curr_town'] = \"\"\n",
    "\n",
    "for index, address in enumerate(patients['address']):\n",
    "    # Extract the town name\n",
    "    town_name = extract_town_name(address, town_names)\n",
    "    \n",
    "    # Assign the extracted town name to the corresponding entry in the 'curr_town' column\n",
    "    patients.at[index, 'curr_town'] = town_name"
   ]
  },
  {
   "cell_type": "code",
   "execution_count": 13,
   "metadata": {},
   "outputs": [],
   "source": [
    "patients.to_csv('patient_clean.csv', index=False)"
   ]
  },
  {
   "cell_type": "markdown",
   "metadata": {},
   "source": [
    "## Add suffixes to columns"
   ]
  },
  {
   "cell_type": "code",
   "execution_count": 14,
   "metadata": {},
   "outputs": [],
   "source": [
    "patients = patients.rename(columns={'patient': 'PATIENT'})\n",
    "\n",
    "def add_suffix(df, suffix):\n",
    "    renamed_columns = {}\n",
    "    for col_name in df.columns:\n",
    "        if col_name != 'PATIENT':\n",
    "            renamed_columns[col_name] = col_name + '_' + suffix\n",
    "        else:\n",
    "            renamed_columns[col_name] = col_name\n",
    "    return df.rename(columns=renamed_columns)\n",
    "\n",
    "\n",
    "allergies_clean = add_suffix(allergies_pivot, 'ALLERGIES')\n",
    "careplans_clean = add_suffix(careplans_pivot, 'CAREPLANS')\n",
    "conditions_clean = add_suffix(conditions_pivot, 'CONDITIONS')\n",
    "immunizations_clean = add_suffix(immunizations_pivot, 'IMMUNIZATIONS')\n",
    "medications_clean = add_suffix(medications_pivot, 'MEDICATIONS')\n",
    "observations_pivot = add_suffix(observations_pivot, 'OBSERVATIONS')\n",
    "procedures_clean = add_suffix(procedures_pivot, 'PROCEDURES')\n"
   ]
  },
  {
   "cell_type": "markdown",
   "metadata": {},
   "source": [
    "## Merge datasets"
   ]
  },
  {
   "cell_type": "markdown",
   "metadata": {},
   "source": [
    "Separate conditions dataframe based on disease (now just with diabetes but ultimately need to do with each disease)"
   ]
  },
  {
   "cell_type": "code",
   "execution_count": 15,
   "metadata": {},
   "outputs": [],
   "source": [
    "## DIABETES\n",
    "illness_descriptions = ['PATIENT','Diabetes_CONDITIONS','Prediabetes_CONDITIONS','Diabetic retinopathy associated with type II diabetes mellitus (disorder)_CONDITIONS', \n",
    "                        'Nonproliferative diabetic retinopathy due to type 2 diabetes mellitus (disorder)_CONDITIONS', 'Macular edema and retinopathy due to type 2 diabetes mellitus (disorder)_CONDITIONS', \n",
    "                        'Microalbuminuria due to type 2 diabetes mellitus (disorder)_CONDITIONS', 'Diabetic renal disease (disorder)_CONDITIONS', 'Neuropathy due to type 2 diabetes mellitus (disorder)_CONDITIONS']\n",
    "\n",
    "\n",
    "subset_conditions = conditions_clean.loc[:, illness_descriptions]\n",
    "\n",
    "# dataset to be used for analysis\n",
    "subset_conditions.to_csv('conditions_diabetes.csv', index=False)"
   ]
  },
  {
   "cell_type": "code",
   "execution_count": 16,
   "metadata": {},
   "outputs": [],
   "source": [
    "## PREGNANCY\n",
    "illness_descriptions = ['PATIENT','Miscarriage in first trimester_CONDITIONS','Miscarriage in second trimester_CONDITIONS',\n",
    "                        'Complication occuring during pregnancy_CONDITIONS','Preeclampsia_CONDITIONS', 'Antepartum eclampsia_CONDITIONS',\n",
    "                        'Tubal pregnancy_CONDITIONS', 'Congenital uterine anomaly_CONDITIONS', 'Blighted ovum_CONDITIONS']\n",
    "\n",
    "subset_conditions = conditions_clean.loc[:, illness_descriptions]\n",
    "\n",
    "# dataset to be used for analysis\n",
    "subset_conditions.to_csv('conditions_pregnancy.csv', index=False)"
   ]
  },
  {
   "cell_type": "code",
   "execution_count": 17,
   "metadata": {},
   "outputs": [],
   "source": [
    "## CANCER\n",
    "illness_descriptions = ['PATIENT','Non-small cell lung cancer (disorder)_CONDITIONS', 'Non-small cell carcinoma of lung  TNM stage 4 (disorder)_CONDITIONS',\n",
    "                        'Primary small cell malignant neoplasm of lung  TNM stage 4 (disorder)_CONDITIONS','Non-small cell carcinoma of lung  TNM stage 2 (disorder)_CONDITIONS',\n",
    "                        'Non-small cell lung cancer (disorder)_CONDITIONS', 'Suspected lung cancer (situation)_CONDITIONS', 'Malignant tumor of colon_CONDITIONS',\n",
    "                        'Overlapping malignant neoplasm of colon_CONDITIONS']\n",
    "\n",
    "subset_conditions = conditions_clean.loc[:, illness_descriptions]\n",
    "\n",
    "subset_conditions.to_csv('conditions_cancer.csv', index=False)"
   ]
  },
  {
   "cell_type": "code",
   "execution_count": 18,
   "metadata": {},
   "outputs": [],
   "source": [
    "## HEART\n",
    "illness_descriptions = ['PATIENT','Coronary Heart Disease_CONDITIONS', 'History of cardiac arrest (situation)_CONDITIONS', 'Cardiac Arrest_CONDITIONS',\n",
    "                        'History of myocardial infarction (situation)_CONDITIONS', 'Myocardial Infarction_CONDITIONS']\n",
    "\n",
    "subset_conditions = conditions_clean.loc[:, illness_descriptions]\n",
    "subset_conditions.to_csv('conditions_heart.csv', index=False)"
   ]
  },
  {
   "cell_type": "code",
   "execution_count": 19,
   "metadata": {},
   "outputs": [],
   "source": [
    "## LUNGS\n",
    "illness_descriptions = ['PATIENT','Asthma_CONDITIONS', 'Pulmonary emphysema (disorder)_CONDITIONS', 'Seasonal allergic rhinitis_CONDITIONS', \n",
    "                        'Acute bronchitis (disorder)_CONDITIONS', 'Chronic obstructive bronchitis (disorder)_CONDITIONS',\n",
    "                        'Childhood asthma_CONDITIONS', 'Perennial allergic rhinitis with seasonal variation_CONDITIONS',\n",
    "                        'Perennial allergic rhinitis_CONDITIONS', 'Acute bacterial sinusitis (disorder)_CONDITIONS', 'Chronic sinusitis (disorder)_CONDITIONS',\n",
    "                        'Sinusitis (disorder)_CONDITIONS']\n",
    "\n",
    "subset_conditions = conditions_clean.loc[:, illness_descriptions]\n",
    "subset_conditions.to_csv('conditions_lungs.csv', index=False)"
   ]
  }
 ],
 "metadata": {
  "kernelspec": {
   "display_name": "ml-0451",
   "language": "python",
   "name": "python3"
  },
  "language_info": {
   "codemirror_mode": {
    "name": "ipython",
    "version": 3
   },
   "file_extension": ".py",
   "mimetype": "text/x-python",
   "name": "python",
   "nbconvert_exporter": "python",
   "pygments_lexer": "ipython3",
   "version": "3.9.18"
  }
 },
 "nbformat": 4,
 "nbformat_minor": 2
}
