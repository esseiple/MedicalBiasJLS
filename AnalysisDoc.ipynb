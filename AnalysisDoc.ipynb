{
 "cells": [
  {
   "cell_type": "code",
   "execution_count": 2,
   "metadata": {},
   "outputs": [],
   "source": [
    "import pandas as pd\n",
    "import os"
   ]
  },
  {
   "cell_type": "code",
   "execution_count": 1,
   "metadata": {},
   "outputs": [
    {
     "ename": "ModuleNotFoundError",
     "evalue": "No module named 'dask'",
     "output_type": "error",
     "traceback": [
      "\u001b[0;31m---------------------------------------------------------------------------\u001b[0m",
      "\u001b[0;31mModuleNotFoundError\u001b[0m                       Traceback (most recent call last)",
      "Cell \u001b[0;32mIn[1], line 1\u001b[0m\n\u001b[0;32m----> 1\u001b[0m \u001b[38;5;28;01mimport\u001b[39;00m \u001b[38;5;21;01mdask\u001b[39;00m\u001b[38;5;21;01m.\u001b[39;00m\u001b[38;5;21;01mdataframe\u001b[39;00m \u001b[38;5;28;01mas\u001b[39;00m \u001b[38;5;21;01mdd\u001b[39;00m\n\u001b[1;32m      3\u001b[0m \u001b[38;5;66;03m# Directory containing your CSV files\u001b[39;00m\n\u001b[1;32m      4\u001b[0m directory \u001b[38;5;241m=\u001b[39m \u001b[38;5;124m'\u001b[39m\u001b[38;5;124m/Users/sophie/Desktop/Machine Learning/MedicalBiasJLS\u001b[39m\u001b[38;5;124m'\u001b[39m\n",
      "\u001b[0;31mModuleNotFoundError\u001b[0m: No module named 'dask'"
     ]
    }
   ],
   "source": [
    "import dask.dataframe as dd\n",
    "\n",
    "# Directory containing your CSV files\n",
    "directory = '/Users/sophie/Desktop/Machine Learning/MedicalBiasJLS'\n",
    "\n",
    "# List all CSV files in the directory excluding the file 'all_prevelances.csv'\n",
    "csv_files = [file for file in os.listdir(directory) if file.endswith('.csv') and file != 'all_prevelances.csv']\n",
    "\n",
    "# Initialize an empty list to store Dask DataFrames\n",
    "dfs = []\n",
    "\n",
    "# Loop through each CSV file\n",
    "for file in csv_files:\n",
    "    # Read the CSV file into a Dask DataFrame\n",
    "    df = dd.read_csv(os.path.join(directory, file))\n",
    "    dfs.append(df)\n",
    "\n",
    "# Merge Dask DataFrames\n",
    "combined_data = dd.merge(*dfs, on='PATIENT')\n",
    "\n",
    "# Write the combined data to a new CSV file\n",
    "combined_data.to_csv('/Users/sophie/Desktop/Machine Learning/MedicalBiasJLS/combined_data.csv', index=False)\n"
   ]
  }
 ],
 "metadata": {
  "kernelspec": {
   "display_name": "ml-0451",
   "language": "python",
   "name": "python3"
  },
  "language_info": {
   "codemirror_mode": {
    "name": "ipython",
    "version": 3
   },
   "file_extension": ".py",
   "mimetype": "text/x-python",
   "name": "python",
   "nbconvert_exporter": "python",
   "pygments_lexer": "ipython3",
   "version": "3.9.18"
  }
 },
 "nbformat": 4,
 "nbformat_minor": 2
}
